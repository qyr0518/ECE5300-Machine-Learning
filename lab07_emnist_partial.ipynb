{
 "cells": [
  {
   "cell_type": "markdown",
   "metadata": {},
   "source": [
    "# Lab: SVMs on Extended MNIST\n",
    "\n",
    "In the [MNIST demo](../Demos/demo_mnist_svm.ipynb), we saw how SVMs can be used for the classic MNIST problem of digit recognition. In this lab, we are going to extend the MNIST dataset by adding a number of non-digit letters and see if the classifier can distinguish the digits from the non-digits. All non-digits will be lumped as a single 11-th class. This is a highly simplified version of a 'detection' problem (as opposed to 'classification' problem). Detection is vital in OCR and related problems since the non useful characters must be rejected. \n",
    "\n",
    "In addition to the concepts in the demo, you will learn:\n",
    "* Combine multiple datasets\n",
    "* Select the SVM parameters (`C` and `gamma`) via cross-validation.\n",
    "* Use the `GridSearchCV` method to search for parameters with cross-validation.\n"
   ]
  },
  {
   "cell_type": "markdown",
   "metadata": {},
   "source": [
    "As usual, we download the standard packages"
   ]
  },
  {
   "cell_type": "code",
   "execution_count": 1,
   "metadata": {},
   "outputs": [],
   "source": [
    "import numpy as np\n",
    "import matplotlib.pyplot as plt\n",
    "%matplotlib inline\n",
    "from sklearn import linear_model, preprocessing"
   ]
  },
  {
   "cell_type": "markdown",
   "metadata": {},
   "source": [
    "## Downloading the EMNIST Dataset\n",
    "\n",
    "After creating the highly popular MNIST dataset, NIST created an extended version of the dataset that includes letters and digits.\n",
    "The extended datbase (called EMNIST) also has many more examples per class.  \n",
    "\n",
    "To download the data, go to the [EMNIST webpage](https://www.nist.gov/itl/iad/image-group/emnist-dataset).  Near the bottom, you will see a link for `MATLAB format dataset`.  If you click on this link, you will download a `zip` file with several datasets in it.  The total file is 726M, so it may take some time and diskspace to download.  Extract two files:\n",
    "* `emnist-digits.mat`:  This is a file of digits `0` to `9`, but with more examples per class.\n",
    "* `emnist-letters.mat`:  This is a file of letters `a/A` to `z/Z`.  The lower and upper case letters are grouped into the same class.\n",
    "\n",
    "Once you get these two files, you can save yourself the diskspace and remove all the other files."
   ]
  },
  {
   "cell_type": "code",
   "execution_count": 2,
   "metadata": {},
   "outputs": [],
   "source": [
    "# TODO:  Download emnist-letters.mat and emnist-digits.mat to the working directory"
   ]
  },
  {
   "cell_type": "markdown",
   "metadata": {},
   "source": [
    "Since MATLAB files are still widely-used, Python has excellent routines for loading MATLAB files.  The function below uses the `scipy.io` package to extract the relevant fields from the MATLAB file.  Specifically, the function extracts the training and test data from MATLAB file. "
   ]
  },
  {
   "cell_type": "code",
   "execution_count": 3,
   "metadata": {},
   "outputs": [],
   "source": [
    "import scipy.io\n",
    "def load_emnist(file_path='emnist-digits.mat'):\n",
    "    \"\"\"\n",
    "    Loads training and test data with ntr and nts training and test samples\n",
    "    The `file_path` is the location of the `eminst-balanced.mat`.\n",
    "    \"\"\"    \n",
    "    \n",
    "    # Load the MATLAB file\n",
    "    mat = scipy.io.loadmat(file_path)\n",
    "    \n",
    "    # Get the training data\n",
    "    Xtr = mat['dataset'][0][0][0][0][0][0][:]\n",
    "    ntr = Xtr.shape[0]\n",
    "    ytr = mat['dataset'][0][0][0][0][0][1][:].reshape(ntr).astype(int)\n",
    "    \n",
    "    # Get the test data\n",
    "    Xts = mat['dataset'][0][0][1][0][0][0][:]\n",
    "    nts = Xts.shape[0]\n",
    "    yts = mat['dataset'][0][0][1][0][0][1][:].reshape(nts).astype(int)\n",
    "    \n",
    "    print(\"%d training samples, %d test samples loaded\" % (ntr, nts))\n",
    "\n",
    "    return [Xtr, Xts, ytr, yts]"
   ]
  },
  {
   "cell_type": "markdown",
   "metadata": {},
   "source": [
    "Use the function above to get all the digit images from the `emnist-digits.mat` file.  "
   ]
  },
  {
   "cell_type": "code",
   "execution_count": 4,
   "metadata": {},
   "outputs": [
    {
     "name": "stdout",
     "output_type": "stream",
     "text": [
      "240000 training samples, 40000 test samples loaded\n"
     ]
    }
   ],
   "source": [
    "# TODO:  Load the digit data from emnist-digits.mat\n",
    "# Xtr_dig, Xts_dig, ytr_dig, yts_dig = ...\n",
    "Xtr_dig, Xts_dig, ytr_dig, yts_dig = load_emnist(file_path='emnist-digits.mat')"
   ]
  },
  {
   "cell_type": "markdown",
   "metadata": {},
   "source": [
    "You should see 240000 training samples and 40000 test samples.  Now use the same function to get the letter characters from `emnist-letters.mat`.  "
   ]
  },
  {
   "cell_type": "code",
   "execution_count": 5,
   "metadata": {},
   "outputs": [
    {
     "name": "stdout",
     "output_type": "stream",
     "text": [
      "124800 training samples, 20800 test samples loaded\n"
     ]
    }
   ],
   "source": [
    "# TODO:  Load the digit data from emnist-letters.mat\n",
    "# Xtr_let, Xts_let, ytr_let, yts_let = ...\n",
    "Xtr_let, Xts_let, ytr_let, yts_let = load_emnist(file_path='emnist-letters.mat')"
   ]
  },
  {
   "cell_type": "markdown",
   "metadata": {},
   "source": [
    "You should see 124800 training samples and 20800 test samples.  Next, will recreate the `plt_digit` function from the demo."
   ]
  },
  {
   "cell_type": "code",
   "execution_count": 6,
   "metadata": {},
   "outputs": [],
   "source": [
    "def plt_digit(x,y=None):\n",
    "    nrow = 28\n",
    "    ncol = 28\n",
    "    xsq = x.reshape((nrow,ncol))\n",
    "    plt.imshow(xsq.T,  cmap='Greys_r')\n",
    "    plt.xticks([])\n",
    "    plt.yticks([])    \n",
    "    if y != None:\n",
    "        plt.title('%d' % y)        "
   ]
  },
  {
   "cell_type": "markdown",
   "metadata": {},
   "source": [
    "Plot 8 random samples from the digit training data.  You can use the `plt_digit` function above with `subplot` to create a nice display.  I suggest sizing your plots using the `plt.figure(figsize=(10,20))` command."
   ]
  },
  {
   "cell_type": "code",
   "execution_count": 7,
   "metadata": {},
   "outputs": [
    {
     "data": {
      "image/png": "[encoded data removed]",
      "text/plain": [
       "<Figure size 432x288 with 8 Axes>"
      ]
     },
     "metadata": {},
     "output_type": "display_data"
    }
   ],
   "source": [
    "# TODO:  Plot 8 random samples from the training data of the digits\n",
    "nplt = 8\n",
    "nsamp = Xtr_dig.shape[0]\n",
    "Iperm = np.random.permutation(nsamp)\n",
    "\n",
    "for i in range(nplt):\n",
    "    ind = Iperm[i]\n",
    "    plt.subplot(1,nplt,i+1)\n",
    "    plt_digit(Xtr_dig[i,:])"
   ]
  },
  {
   "cell_type": "markdown",
   "metadata": {},
   "source": [
    "Next, plot 8 random samples from the letters training data.  You should see that the labels go from 0 to 25, corresponding to `a` to `z`.  Upper and lower case letters belong to the same class."
   ]
  },
  {
   "cell_type": "code",
   "execution_count": 8,
   "metadata": {},
   "outputs": [
    {
     "data": {
      "image/png": "[encoded data removed]",
      "text/plain": [
       "<Figure size 432x288 with 8 Axes>"
      ]
     },
     "metadata": {},
     "output_type": "display_data"
    }
   ],
   "source": [
    "# TODO:  Plot 8 random samples from the training data of the letters\n",
    "nplt = 8\n",
    "nsamp = Xtr_let.shape[0]\n",
    "Iperm = np.random.permutation(nsamp)\n",
    "\n",
    "for i in range(nplt):\n",
    "    ind = Iperm[i]\n",
    "    plt.subplot(1,nplt,i+1)\n",
    "    plt_digit(Xtr_let[i,:])"
   ]
  },
  {
   "cell_type": "markdown",
   "metadata": {},
   "source": [
    "## Creating a Non-Digit Class\n",
    "\n",
    "SVM classifiers are very slow to train.  The training is particularly slow when there are a large number of classes.  To speed things up, we are going to put all of the letters in one class and merge that class with the digits data.  \n",
    "\n",
    "Before we begin, we will remove all the samples corresponding to `i/I`, `l/L` and `o/O`, since otherwise these letters would get confused with the digits `0` and `1`.  Create arrays `Xtr_let_rem` and `ytr_let_rem` from the data `Xtr_let` and `ytr_let`, where the samples `i` with `ytr_let[i] == 9, 12, 15` are removed.   Create `Xts_let_rem` and `yts_let_rem` similarly.\n",
    "\n",
    "If you are clever, you can do this without a for-loop via python broadcasting and `np.all(..., axis=1)` command.  But, if you like, you can use a for-loop."
   ]
  },
  {
   "cell_type": "code",
   "execution_count": 9,
   "metadata": {},
   "outputs": [],
   "source": [
    "remove_list = np.array([9,12,15])\n",
    "index_list_tr = []\n",
    "index_list_ts = []\n",
    "for i in range(ytr_let.shape[0]):\n",
    "    if ytr_let[i] in remove_list:\n",
    "        index_list_tr.append(i)\n",
    "    else:\n",
    "        continue\n",
    "index_list_tr = np.array(index_list_tr)\n",
    "for i in range(yts_let.shape[0]):\n",
    "    if yts_let[i] in remove_list:\n",
    "        index_list_ts.append(i)\n",
    "    else:\n",
    "        continue\n",
    "index_list_ts = np.array(index_list_ts)\n",
    "# TODO:  Create arrays with labels 9, 12 and 15 removed\n",
    "# Xtr_let_rem, ytr_let_rem = ...\n",
    "Xtr_let_rem = np.delete(Xtr_let,index_list_tr,0)\n",
    "ytr_let_rem = np.delete(ytr_let,index_list_tr,0)\n",
    "# Xts_let_rem, yts_let_rem = ...\n",
    "Xts_let_rem = np.delete(Xts_let,index_list_ts,0)\n",
    "yts_let_rem = np.delete(yts_let,index_list_ts,0)"
   ]
  },
  {
   "cell_type": "markdown",
   "metadata": {},
   "source": [
    "To speed things up even further, we will use only a small subset of the training and test data.  Of course, we will not get great results with this small dataset.  But we can still illustrate the basic concepts.  \n",
    "\n",
    "Create training arrays `Xtr1_dig` and `ytr1_dig` by selecting 5000 random samples from `Xtr_dig` and `ytr_dig`.  Then create training arrays `Xtr1_let` and `ytr1_let` by selecting 1000 random samples from `Xtr_let_rem` and `ytr_let_rem`.  Similarly, create test arrays `Xts1_dig,Xts1_let,yts1_dig,yts1_let` with 5000 digits and 1000 letters."
   ]
  },
  {
   "cell_type": "code",
   "execution_count": 10,
   "metadata": {},
   "outputs": [],
   "source": [
    "# Number of training and test digits and letters\n",
    "ntr_dig = 5000\n",
    "ntr_let = 1000\n",
    "nts_dig = 5000\n",
    "nts_let = 1000\n",
    "index_dig_tr = np.random.choice(Xtr_dig.shape[0],ntr_dig,replace=False)\n",
    "index_dig_ts = np.random.choice(Xts_dig.shape[0],nts_dig,replace=False)\n",
    "index_let_tr = np.random.choice(Xtr_let_rem.shape[0],ntr_let,replace=False)\n",
    "index_let_ts = np.random.choice(Xts_let_rem.shape[0],nts_let,replace=False)\n",
    "# TODO Create sub-sampled training and test data\n",
    "# Xtr1_dig, ytr1_dig = ...\n",
    "Xtr1_dig = Xtr_dig[index_dig_tr]\n",
    "ytr1_dig = ytr_dig[index_dig_tr]\n",
    "# Xts1_dig, yts1_dig = ...\n",
    "Xts1_dig = Xts_dig[index_dig_ts]\n",
    "yts1_dig = yts_dig[index_dig_ts]\n",
    "# Xtr1_let, ytr1_let = ...\n",
    "Xtr1_let = Xtr_let_rem[index_let_tr]\n",
    "ytr1_let = ytr_let_rem[index_let_tr]\n",
    "# Xts1_let, yts1_let = ... \n",
    "Xts1_let = Xts_let_rem[index_let_ts]\n",
    "yts1_let = yts_let_rem[index_let_ts]"
   ]
  },
  {
   "cell_type": "markdown",
   "metadata": {},
   "source": [
    "Now we will merge our digit and letter training arrays.\n",
    "* Create an array `Xtr` by stacking `Xtr1_dig`, `Xtr1_let`.  This should result in 6000 total samples.\n",
    "* Create a new label vector `ytr` where `ytr[i] = ytr1_dig[i]` for any digit sample and `ytr[i]=10` for any letter sample.  Thus, all the letters are lumped into the single class with label 10.\n",
    "\n",
    "Create test arrays `Xts` and `yts` similarly. \n",
    "\n",
    "You may wish to use the `np.hstack` and `np.vstack` methods."
   ]
  },
  {
   "cell_type": "code",
   "execution_count": 11,
   "metadata": {},
   "outputs": [],
   "source": [
    "# TODO:  Create combined letter and digit training and test data\n",
    "# Xtr, ytr = ..\n",
    "Xtr = np.vstack((Xtr1_dig,Xtr1_let))\n",
    "ytr = np.zeros(6000)\n",
    "ytr[:5000] = ytr1_dig\n",
    "ytr[5000:] = 10*np.ones(1000)\n",
    "# Xts, yts = ...\n",
    "Xts = np.vstack((Xts1_dig,Xts1_let))\n",
    "yts = np.zeros(6000)\n",
    "yts[:5000] = yts1_dig\n",
    "yts[5000:] = 10*np.ones(1000)"
   ]
  },
  {
   "cell_type": "markdown",
   "metadata": {},
   "source": [
    "The features above use pixel values from 0 to 255.  Let's rescale the pixels to the interval from -1 to 1.  This will yield slightly better performance.  We'll put the scaled data into arrays `Xtr1` and `Xts1`."
   ]
  },
  {
   "cell_type": "code",
   "execution_count": 12,
   "metadata": {},
   "outputs": [],
   "source": [
    "# TODO:  Rescale the data to the interval from -1 to 1\n",
    "# Xtr1 = ...\n",
    "Xtr1 = Xtr/255.0*2-1\n",
    "# Xts1 = ...\n",
    "Xts1 = Xts/255.0*2-1"
   ]
  },
  {
   "cell_type": "markdown",
   "metadata": {},
   "source": [
    "## The SVM classifier\n",
    "\n",
    "Let's first create an SVM classifer with penalty `C=2.8` and an `rbf` kernel of width `gamma=.0073`. We will reexamine these choices later."
   ]
  },
  {
   "cell_type": "code",
   "execution_count": 13,
   "metadata": {},
   "outputs": [],
   "source": [
    "from sklearn import svm\n",
    "\n",
    "# TODO:  Create a classifier: a support vector classifier\n",
    "# svc = ...\n",
    "svc = svm.SVC(probability=False, C=2.8, kernel='rbf', gamma=.0073,verbose=1)"
   ]
  },
  {
   "cell_type": "markdown",
   "metadata": {},
   "source": [
    "Fit the classifier using the scaled training data.  Although SVMs are slow to train, we have kept the training set small, so the fitting should take less than a minute."
   ]
  },
  {
   "cell_type": "code",
   "execution_count": 14,
   "metadata": {},
   "outputs": [
    {
     "name": "stdout",
     "output_type": "stream",
     "text": [
      "[LibSVM]"
     ]
    },
    {
     "data": {
      "text/plain": [
       "SVC(C=2.8, gamma=0.0073, verbose=1)"
      ]
     },
     "execution_count": 14,
     "metadata": {},
     "output_type": "execute_result"
    }
   ],
   "source": [
    "# TODO:  Fit the classifier on the training data. \n",
    "svc.fit(Xtr1,ytr)"
   ]
  },
  {
   "cell_type": "markdown",
   "metadata": {},
   "source": [
    "Now let's compute and print the accuracy on the test data.  This too should take less than a minute.  You should get an accuracy of around 89%."
   ]
  },
  {
   "cell_type": "code",
   "execution_count": 15,
   "metadata": {},
   "outputs": [
    {
     "name": "stdout",
     "output_type": "stream",
     "text": [
      "Accuracy = 0.914500\n"
     ]
    }
   ],
   "source": [
    "# TODO:  Measure error on the test data\n",
    "yhat_ts = svc.predict(Xts1)\n",
    "acc = np.mean(yhat_ts==yts)\n",
    "print('Accuracy = {0:f}'.format(acc))"
   ]
  },
  {
   "cell_type": "markdown",
   "metadata": {},
   "source": [
    "The error rate is bit higher than what we would get with digits only.  This is because the \"letters\" class is extremely complex.  \n",
    "\n",
    "To see this, print and then plot the normalized confusion matrix.  You should see that the error rate on the \"letters\" class is much higher than the others."
   ]
  },
  {
   "cell_type": "code",
   "execution_count": 16,
   "metadata": {},
   "outputs": [
    {
     "name": "stdout",
     "output_type": "stream",
     "text": [
      "[ 492  463  460  488  523  466  485  523  459  501 1140]\n",
      "[0.98028496 0.99333905 0.97249598 0.99784255 0.97553589 0.96422564\n",
      " 0.98338171 0.99657401 0.99087414 0.98086563 1.33698319]\n",
      "[[0.959 0.    0.    0.    0.002 0.    0.    0.    0.    0.    0.045]\n",
      " [0.    0.987 0.004 0.    0.    0.002 0.    0.002 0.002 0.002 0.037]\n",
      " [0.    0.    0.943 0.    0.    0.    0.    0.004 0.004 0.    0.111]\n",
      " [0.002 0.    0.004 0.959 0.    0.004 0.    0.002 0.004 0.002 0.037]\n",
      " [0.    0.002 0.    0.    0.945 0.    0.002 0.    0.    0.015 0.08 ]\n",
      " [0.    0.    0.    0.019 0.    0.918 0.    0.    0.002 0.    0.082]\n",
      " [0.002 0.    0.    0.    0.    0.002 0.967 0.    0.    0.    0.054]\n",
      " [0.002 0.    0.    0.    0.002 0.    0.    0.964 0.002 0.017 0.025]\n",
      " [0.    0.    0.002 0.011 0.    0.011 0.002 0.    0.963 0.013 0.087]\n",
      " [0.    0.    0.    0.006 0.006 0.002 0.    0.02  0.008 0.916 0.026]\n",
      " [0.015 0.004 0.018 0.003 0.021 0.025 0.012 0.004 0.005 0.015 0.754]]\n"
     ]
    },
    {
     "data": {
      "text/plain": [
       "<matplotlib.colorbar.Colorbar at 0x20cac71a250>"
      ]
     },
     "execution_count": 16,
     "metadata": {},
     "output_type": "execute_result"
    },
    {
     "data": {
      "image/png": "[encoded data removed]",
      "text/plain": [
       "<Figure size 432x288 with 2 Axes>"
      ]
     },
     "metadata": {
      "needs_background": "light"
     },
     "output_type": "display_data"
    }
   ],
   "source": [
    "# TODO:  Print and plot the normalized confusion matrix\n",
    "from sklearn.metrics import confusion_matrix\n",
    "C = confusion_matrix(yts,yhat_ts)\n",
    "\n",
    "# Normalize the confusion matrix\n",
    "Csum = np.sum(C,0)\n",
    "print(Csum)\n",
    "C = C / Csum[:,None]\n",
    "print(np.sum(C,0))\n",
    "\n",
    "# Print the confusion matrix\n",
    "print(np.array_str(C, precision=3, suppress_small=True))\n",
    "plt.imshow(C, interpolation='none')\n",
    "plt.colorbar()"
   ]
  },
  {
   "cell_type": "markdown",
   "metadata": {},
   "source": [
    "Print the following:\n",
    "* the fraction of digits that are mislabeled as letters  \n",
    "* the fraction of letters that are mislabeled as digits"
   ]
  },
  {
   "cell_type": "code",
   "execution_count": 17,
   "metadata": {},
   "outputs": [
    {
     "name": "stdout",
     "output_type": "stream",
     "text": [
      "The fraction of digits that are mislabeled as letters: 0.056\n",
      "The fraction of letters that are mislabeled as digits: 0.14\n"
     ]
    }
   ],
   "source": [
    "# TODO:  Print the above error rates\n",
    "print(\"The fraction of digits that are mislabeled as letters: {}\".format(np.mean(yhat_ts[:5000]==10)))\n",
    "print(\"The fraction of letters that are mislabeled as digits: {}\".format(np.mean(yhat_ts[5000:]!=10)))"
   ]
  },
  {
   "cell_type": "markdown",
   "metadata": {},
   "source": [
    "## Optimizing gamma and C via Cross-Validation (Using For-Loops)\n",
    "\n",
    "Above, and in the demo, we used externally provided `gamma` and `C` values.  In general, these parameters should be carefully chosen.  We will now choose these parameters via cross validation.\n",
    "\n",
    "Below, we will try the value of `C` and `gamma` specified in the arrays `C_test` and `gam_test`.  For each combination of `C` and `gamma`, we fit the model on the training data and measure its accuracy on the test data.  Then we will select the `(C,gamma)` pair that results in the best accuracy.   \n",
    "\n",
    "Ideally, we would try many more values for each of the parameters, but this would take a long time.  So, we will try only 3 values for each.  Still, this will take several minutes to complete. \n",
    "\n",
    "For this lab, you may do the parameter search over `C` and `gamma` in one of two ways:\n",
    "* This section:  Use for-loops and manually search over the parameters.  This is more direct, and you can see and control exactly what is happening.\n",
    "* Next section:  Use the `GridSearchCV` method in the `sklearn` package.  This takes a little reading, but once you learn this method, it is more efficient to program.\n",
    "\n",
    "**You only need to submit the solution to one of the two sections.**  Pick whichever one you want."
   ]
  },
  {
   "cell_type": "code",
   "execution_count": 18,
   "metadata": {},
   "outputs": [
    {
     "name": "stdout",
     "output_type": "stream",
     "text": [
      "[LibSVM][LibSVM][LibSVM][LibSVM][LibSVM][LibSVM][LibSVM][LibSVM][LibSVM]"
     ]
    }
   ],
   "source": [
    "C_test = [0.1,1,10]\n",
    "gam_test = [0.001,0.01,0.1]\n",
    "\n",
    "nC = len(C_test)\n",
    "ngam = len(gam_test)\n",
    "acc = np.zeros((nC,ngam))\n",
    "\n",
    "# TODO:  Measure and print the accuracy for each C and gamma value.  Store the results in acc\n",
    "for i in range(3):\n",
    "    for j in range(3):\n",
    "        svc = svm.SVC(probability=False, C=C_test[i], kernel='rbf', gamma=gam_test[j],verbose=1)\n",
    "        svc.fit(Xtr1,ytr)\n",
    "        yhat_ts = svc.predict(Xts1)\n",
    "        accuracy = np.mean(yhat_ts==yts)\n",
    "        acc[i,j] = accuracy"
   ]
  },
  {
   "cell_type": "code",
   "execution_count": 19,
   "metadata": {},
   "outputs": [
    {
     "name": "stdout",
     "output_type": "stream",
     "text": [
      "The accuracy matrix:\n",
      "[[0.79283333 0.596      0.16666667]\n",
      " [0.87083333 0.8925     0.213     ]\n",
      " [0.90016667 0.9        0.21683333]]\n"
     ]
    }
   ],
   "source": [
    "# TODO:  Print the accuracy matrix\n",
    "print('The accuracy matrix:\\n{}'.format(acc))"
   ]
  },
  {
   "cell_type": "code",
   "execution_count": 20,
   "metadata": {},
   "outputs": [
    {
     "name": "stdout",
     "output_type": "stream",
     "text": [
      "The maxinum accuracy: 0.9001666666666667\n",
      "The best C is: 10\n",
      "The best gamma is: 0.001\n"
     ]
    }
   ],
   "source": [
    "# TODO:  Print the maximum accuracy and the corresponding best C and gamma\n",
    "print('The maxinum accuracy: {}'.format(np.max(acc)))\n",
    "print('The best C is: {}'.format(C_test[np.where(acc==np.max(acc))[0][0]]))\n",
    "print('The best gamma is: {}'.format(gam_test[np.where(acc==np.max(acc))[1][0]]))"
   ]
  },
  {
   "cell_type": "markdown",
   "metadata": {
    "collapsed": true
   },
   "source": [
    "## Optimizing gamma and C via Cross-Validation (Using `GridSearchCV`)\n",
    "\n",
    "As discussed above, we could implement cross-validation of `C` and `gamma` using for-loops.  But `sklearn` has an excellent method called `GridSearchCV` that automates this process.  In this lab, both for-loops and `GridSearchCV` are pretty easy to implement.  But, for complex parameter searches, `GridSearchCV` becomes much easier.  For example, `GridSearchCV` supports parallelization, so that different parameters can be tested simultaneously.  Below, we will implement cross-validation using `GridSearchCV`.  \n",
    "\n",
    "**You do not have to do this section, if you did the previous section**.  "
   ]
  },
  {
   "cell_type": "markdown",
   "metadata": {},
   "source": [
    "The `GridSearchCV` method does a train-test split in addition to the parameter search.  In this case, we already have a train-test split, and so we will first combine the train and test data back into a single dataset to use with `GridSearchCV`.\n",
    "\n",
    "Create arrays `X` and `y` from `Xtr1`, `Xts1`, `ytr` and `yts`.  Use `np.vstack` and `np.hstack`."
   ]
  },
  {
   "cell_type": "code",
   "execution_count": 21,
   "metadata": {},
   "outputs": [],
   "source": [
    "# TODO:  Create combined trained and test data X and y.\n",
    "# X = ...\n",
    "# y = ..."
   ]
  },
  {
   "cell_type": "markdown",
   "metadata": {},
   "source": [
    "Normally, `GridSearchCV` will do $K$-fold validation and automatically split the data into training and test in each fold.  But, in this case, we want it to perform only one fold with a specific train-test split.  To do this, we need to do the following:\n",
    "* Create a vector `test_fold` where `test_fold[i] = -1` for the samples `i` in the training data (this indicates that they should not be used as test data in any fold) and `test_fold[i] = 0` for the samples `i` in the test data (this indicates that they should be as test data in fold 0).\n",
    "* Call the method  `ps = sklearn.model_selection.PredefinedSplit(test_fold)` to create a predefined test split object."
   ]
  },
  {
   "cell_type": "code",
   "execution_count": 22,
   "metadata": {},
   "outputs": [],
   "source": [
    "# TODO:  Create a pre-defined test split object \n",
    "# import sklearn.model_selection\n",
    "# test_fold = ...\n",
    "# ps = sklearn.model_selection.PredefinedSplit(test_fold)"
   ]
  },
  {
   "cell_type": "markdown",
   "metadata": {},
   "source": [
    "Next, read about the `GridSearchCV` method to set up a classifier that includes searching over the parameter grid.  \n",
    "* For the `param_grid` parameter, you will want to create a dictionary to search over `C` and `gamma`.  You will also need to select the `kernel` parameter.\n",
    "* Set `cv = ps` to use the fixed train-test split.\n",
    "* Set `verbose=10` to monitor the progress"
   ]
  },
  {
   "cell_type": "code",
   "execution_count": 23,
   "metadata": {},
   "outputs": [],
   "source": [
    "# TODO:  Create a GridSearchCV classifier\n",
    "# clf = ..."
   ]
  },
  {
   "cell_type": "markdown",
   "metadata": {},
   "source": [
    "Fit the classifier using the `fit` method.  The fit method will now search over all the parameters. This will take about 30 minutes."
   ]
  },
  {
   "cell_type": "code",
   "execution_count": 24,
   "metadata": {},
   "outputs": [],
   "source": [
    "# TODO: Fit the classifier"
   ]
  },
  {
   "cell_type": "markdown",
   "metadata": {},
   "source": [
    "Print the `best_score_` and `best_params_` attributes of the classifier to find the best score and parameters"
   ]
  },
  {
   "cell_type": "code",
   "execution_count": 25,
   "metadata": {},
   "outputs": [],
   "source": [
    "# TODO:  Print the best parameter and score of the classifier"
   ]
  },
  {
   "cell_type": "markdown",
   "metadata": {},
   "source": [
    "Finally, you can print the test and train score from the `cv_results_['mean_test_score']` and `cv_results_['mean_train_score']`."
   ]
  },
  {
   "cell_type": "code",
   "execution_count": 26,
   "metadata": {},
   "outputs": [],
   "source": [
    "# TODO:  Print the mean test score for each parameter value."
   ]
  },
  {
   "cell_type": "code",
   "execution_count": null,
   "metadata": {},
   "outputs": [],
   "source": []
  }
 ],
 "metadata": {
  "kernelspec": {
   "display_name": "Python 3",
   "language": "python",
   "name": "python3"
  },
  "language_info": {
   "codemirror_mode": {
    "name": "ipython",
    "version": 3
   },
   "file_extension": ".py",
   "mimetype": "text/x-python",
   "name": "python",
   "nbconvert_exporter": "python",
   "pygments_lexer": "ipython3",
   "version": "3.8.7"
  }
 },
 "nbformat": 4,
 "nbformat_minor": 2
}
